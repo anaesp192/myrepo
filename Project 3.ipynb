{
 "cells": [
  {
   "cell_type": "markdown",
   "metadata": {},
   "source": [
    "# Investigation of Anxiety Through Scototaxis for Males and Females of Different Size Classes and Environments\n",
    "###Ana Espinosa (ake524)"
   ]
  },
  {
   "cell_type": "code",
   "execution_count": 57,
   "metadata": {},
   "outputs": [],
   "source": [
    "# So I can have multiple outputs\n",
    "from IPython.core.interactiveshell import InteractiveShell\n",
    "InteractiveShell.ast_node_interactivity = \"all\""
   ]
  },
  {
   "cell_type": "code",
   "execution_count": 42,
   "metadata": {},
   "outputs": [],
   "source": [
    "#importing necessary packages \n",
    "import numpy as np\n",
    "import pandas as pd\n",
    "import seaborn as sns\n",
    "import matplotlib.pyplot as plt"
   ]
  },
  {
   "cell_type": "code",
   "execution_count": 3,
   "metadata": {},
   "outputs": [],
   "source": [
    "#importing my dataset\n",
    "scototaxis = pd.read_excel(\"FS_Scototaxis.xlsx\")"
   ]
  },
  {
   "cell_type": "markdown",
   "metadata": {},
   "source": [
    "This dataset contains information on male and female swordtail fish concerning their behavior during a scotaxis assay. A scototaxis assay measures the anxiety behaviors of a fish by making one side of the tank black and the other side white. The fish displaying more anxious behavior will spend more time in the black side. There are 11 columns and 50 rows. Each row represents a different fish. The 11 variables consist of the treatment group each fish belonged to (trt), the names of each fish, their sex, mean velocity, min acceleration, max acceleration,the duration of each fish in the black side of the tank (%), an extraneous column called \"mistake\", the time the fish spent on the black edge of the tank (%), the time the fish spent on the white side of the tank (%), and the total amount of time the fish was recorded for (sec). Only the variables 'trt', 'Sex', and 'per_cum_dur_black_side' dont have any missing data from either the female or male fish. "
   ]
  },
  {
   "cell_type": "code",
   "execution_count": 15,
   "metadata": {
    "scrolled": true
   },
   "outputs": [
    {
     "data": {
      "text/plain": [
       "(50, 11)"
      ]
     },
     "execution_count": 15,
     "metadata": {},
     "output_type": "execute_result"
    },
    {
     "data": {
      "text/html": [
       "<div>\n",
       "<style scoped>\n",
       "    .dataframe tbody tr th:only-of-type {\n",
       "        vertical-align: middle;\n",
       "    }\n",
       "\n",
       "    .dataframe tbody tr th {\n",
       "        vertical-align: top;\n",
       "    }\n",
       "\n",
       "    .dataframe thead th {\n",
       "        text-align: right;\n",
       "    }\n",
       "</style>\n",
       "<table border=\"1\" class=\"dataframe\">\n",
       "  <thead>\n",
       "    <tr style=\"text-align: right;\">\n",
       "      <th></th>\n",
       "      <th>trt</th>\n",
       "      <th>names</th>\n",
       "      <th>Sex</th>\n",
       "      <th>mean_velocity</th>\n",
       "      <th>min_acc</th>\n",
       "      <th>max_acc</th>\n",
       "      <th>per_cum_dur_black_side</th>\n",
       "      <th>mistake</th>\n",
       "      <th>per_cum_dur_bedge</th>\n",
       "      <th>per_cum_dur_white_side</th>\n",
       "      <th>total_time</th>\n",
       "    </tr>\n",
       "  </thead>\n",
       "  <tbody>\n",
       "    <tr>\n",
       "      <th>0</th>\n",
       "      <td>FF</td>\n",
       "      <td>Eva</td>\n",
       "      <td>F</td>\n",
       "      <td>3.49393</td>\n",
       "      <td>-39769.7</td>\n",
       "      <td>59035.4</td>\n",
       "      <td>93.37970</td>\n",
       "      <td>16.50650</td>\n",
       "      <td>76.8732</td>\n",
       "      <td>6.62030</td>\n",
       "      <td>604.3020</td>\n",
       "    </tr>\n",
       "    <tr>\n",
       "      <th>1</th>\n",
       "      <td>FF</td>\n",
       "      <td>Eska</td>\n",
       "      <td>F</td>\n",
       "      <td>3.18053</td>\n",
       "      <td>-32486.2</td>\n",
       "      <td>45024.7</td>\n",
       "      <td>91.58880</td>\n",
       "      <td>16.08600</td>\n",
       "      <td>75.5028</td>\n",
       "      <td>8.41120</td>\n",
       "      <td>675.1732</td>\n",
       "    </tr>\n",
       "    <tr>\n",
       "      <th>2</th>\n",
       "      <td>FF</td>\n",
       "      <td>Eliza</td>\n",
       "      <td>F</td>\n",
       "      <td>3.33723</td>\n",
       "      <td>-39769.7</td>\n",
       "      <td>45024.7</td>\n",
       "      <td>72.25070</td>\n",
       "      <td>16.94800</td>\n",
       "      <td>55.3027</td>\n",
       "      <td>27.74900</td>\n",
       "      <td>765.4385</td>\n",
       "    </tr>\n",
       "    <tr>\n",
       "      <th>3</th>\n",
       "      <td>FF</td>\n",
       "      <td>Elena</td>\n",
       "      <td>F</td>\n",
       "      <td>3.72752</td>\n",
       "      <td>-31608.5</td>\n",
       "      <td>47026.3</td>\n",
       "      <td>77.96310</td>\n",
       "      <td>20.92820</td>\n",
       "      <td>57.0349</td>\n",
       "      <td>22.03690</td>\n",
       "      <td>704.2178</td>\n",
       "    </tr>\n",
       "    <tr>\n",
       "      <th>4</th>\n",
       "      <td>FF</td>\n",
       "      <td>Elba</td>\n",
       "      <td>F</td>\n",
       "      <td>3.21001</td>\n",
       "      <td>-30637.4</td>\n",
       "      <td>41139.1</td>\n",
       "      <td>90.91965</td>\n",
       "      <td>2.37345</td>\n",
       "      <td>88.5462</td>\n",
       "      <td>9.08035</td>\n",
       "      <td>762.6607</td>\n",
       "    </tr>\n",
       "  </tbody>\n",
       "</table>\n",
       "</div>"
      ],
      "text/plain": [
       "  trt  names Sex  mean_velocity  min_acc  max_acc  per_cum_dur_black_side  \\\n",
       "0  FF    Eva   F        3.49393 -39769.7  59035.4                93.37970   \n",
       "1  FF   Eska   F        3.18053 -32486.2  45024.7                91.58880   \n",
       "2  FF  Eliza   F        3.33723 -39769.7  45024.7                72.25070   \n",
       "3  FF  Elena   F        3.72752 -31608.5  47026.3                77.96310   \n",
       "4  FF   Elba   F        3.21001 -30637.4  41139.1                90.91965   \n",
       "\n",
       "    mistake  per_cum_dur_bedge  per_cum_dur_white_side  total_time  \n",
       "0  16.50650            76.8732                 6.62030    604.3020  \n",
       "1  16.08600            75.5028                 8.41120    675.1732  \n",
       "2  16.94800            55.3027                27.74900    765.4385  \n",
       "3  20.92820            57.0349                22.03690    704.2178  \n",
       "4   2.37345            88.5462                 9.08035    762.6607  "
      ]
     },
     "execution_count": 15,
     "metadata": {},
     "output_type": "execute_result"
    }
   ],
   "source": [
    "#gives rows and columns\n",
    "scototaxis.shape\n",
    "\n",
    "#displays first couple of rows of dataset\n",
    "scototaxis.head()"
   ]
  },
  {
   "cell_type": "markdown",
   "metadata": {},
   "source": [
    "When comparing the percent cummulative duration in the black side of the tank between sexes, the mean for females was 82.49% while the mean for males was 85.58%, therefore males exhibited, on average, more anxious behavior than females. The overall  mean regardless of sex is 84.03%."
   ]
  },
  {
   "cell_type": "code",
   "execution_count": 68,
   "metadata": {},
   "outputs": [
    {
     "data": {
      "text/plain": [
       "84.0333710074"
      ]
     },
     "execution_count": 68,
     "metadata": {},
     "output_type": "execute_result"
    },
    {
     "data": {
      "text/html": [
       "<div>\n",
       "<style scoped>\n",
       "    .dataframe tbody tr th:only-of-type {\n",
       "        vertical-align: middle;\n",
       "    }\n",
       "\n",
       "    .dataframe tbody tr th {\n",
       "        vertical-align: top;\n",
       "    }\n",
       "\n",
       "    .dataframe thead tr th {\n",
       "        text-align: left;\n",
       "    }\n",
       "\n",
       "    .dataframe thead tr:last-of-type th {\n",
       "        text-align: right;\n",
       "    }\n",
       "</style>\n",
       "<table border=\"1\" class=\"dataframe\">\n",
       "  <thead>\n",
       "    <tr>\n",
       "      <th></th>\n",
       "      <th colspan=\"2\" halign=\"left\">per_cum_dur_black_side</th>\n",
       "    </tr>\n",
       "    <tr>\n",
       "      <th></th>\n",
       "      <th>mean</th>\n",
       "      <th>std</th>\n",
       "    </tr>\n",
       "    <tr>\n",
       "      <th>Sex</th>\n",
       "      <th></th>\n",
       "      <th></th>\n",
       "    </tr>\n",
       "  </thead>\n",
       "  <tbody>\n",
       "    <tr>\n",
       "      <th>F</th>\n",
       "      <td>82.489718</td>\n",
       "      <td>8.067851</td>\n",
       "    </tr>\n",
       "    <tr>\n",
       "      <th>M</th>\n",
       "      <td>85.577024</td>\n",
       "      <td>14.187952</td>\n",
       "    </tr>\n",
       "  </tbody>\n",
       "</table>\n",
       "</div>"
      ],
      "text/plain": [
       "    per_cum_dur_black_side           \n",
       "                      mean        std\n",
       "Sex                                  \n",
       "F                82.489718   8.067851\n",
       "M                85.577024  14.187952"
      ]
     },
     "execution_count": 68,
     "metadata": {},
     "output_type": "execute_result"
    }
   ],
   "source": [
    "#mean of time spent in black side (%)\n",
    "np.mean(scototaxis.per_cum_dur_black_side)\n",
    "\n",
    "#comparing time spent of black side by sex\n",
    "scototaxis.filter(['per_cum_dur_black_side', 'Sex']) \\\n",
    ".groupby('Sex') \\\n",
    ".agg(['mean','std'])\n",
    "     "
   ]
  },
  {
   "cell_type": "markdown",
   "metadata": {},
   "source": [
    "There are 5 different treatment groups in this dataset. For males, their group depends on their size and they can either be small (SS), intermediate (INT), or large (LL). Females are assigned groups based on the fish they were enclosed with- either with the three classes of males, with both large and small males (LS), or only other females (FF). There are not equal numbers of datapoints for each treatment group with INT having 13, SS-13, LL-12, FF-9, and LS-3. The pie chart visualizes the counts for this categorical variable."
   ]
  },
  {
   "cell_type": "code",
   "execution_count": 39,
   "metadata": {},
   "outputs": [
    {
     "data": {
      "text/plain": [
       "INT    13\n",
       "SS     13\n",
       "LL     12\n",
       "FF      9\n",
       "LS      3\n",
       "Name: trt, dtype: int64"
      ]
     },
     "execution_count": 39,
     "metadata": {},
     "output_type": "execute_result"
    },
    {
     "data": {
      "text/plain": [
       "(-1.109697898671973,\n",
       " 1.1004618046986654,\n",
       " -1.1150219070047875,\n",
       " 1.1076341685575977)"
      ]
     },
     "execution_count": 39,
     "metadata": {},
     "output_type": "execute_result"
    },
    {
     "data": {
      "image/png": "[encoded data removed]",
      "text/plain": [
       "<Figure size 432x288 with 1 Axes>"
      ]
     },
     "metadata": {},
     "output_type": "display_data"
    }
   ],
   "source": [
    "#gives the number of counts for each treatment group. \n",
    "scototaxis.trt.value_counts()\n",
    "\n",
    "# creates pie chart to display proportions\n",
    "scototaxis['trt'].value_counts() \\\n",
    ".plot(kind = \"pie\") \\\n",
    ".axis('equal') # equal aspect ratio"
   ]
  },
  {
   "cell_type": "markdown",
   "metadata": {},
   "source": [
    "The time spent in the black side of the tank is not the same for every treatment groups so I decided to display the mean and standard deviation of each one. Treatment group LL spent the most time in the black with a mean of 86.44% and group LS spent the least time in the black with a mean of 76.17%"
   ]
  },
  {
   "cell_type": "code",
   "execution_count": 28,
   "metadata": {},
   "outputs": [
    {
     "data": {
      "text/html": [
       "<div>\n",
       "<style scoped>\n",
       "    .dataframe tbody tr th:only-of-type {\n",
       "        vertical-align: middle;\n",
       "    }\n",
       "\n",
       "    .dataframe tbody tr th {\n",
       "        vertical-align: top;\n",
       "    }\n",
       "\n",
       "    .dataframe thead tr th {\n",
       "        text-align: left;\n",
       "    }\n",
       "\n",
       "    .dataframe thead tr:last-of-type th {\n",
       "        text-align: right;\n",
       "    }\n",
       "</style>\n",
       "<table border=\"1\" class=\"dataframe\">\n",
       "  <thead>\n",
       "    <tr>\n",
       "      <th></th>\n",
       "      <th colspan=\"2\" halign=\"left\">per_cum_dur_black_side</th>\n",
       "    </tr>\n",
       "    <tr>\n",
       "      <th></th>\n",
       "      <th>mean</th>\n",
       "      <th>std</th>\n",
       "    </tr>\n",
       "    <tr>\n",
       "      <th>trt</th>\n",
       "      <th></th>\n",
       "      <th></th>\n",
       "    </tr>\n",
       "  </thead>\n",
       "  <tbody>\n",
       "    <tr>\n",
       "      <th>FF</th>\n",
       "      <td>83.166337</td>\n",
       "      <td>10.426405</td>\n",
       "    </tr>\n",
       "    <tr>\n",
       "      <th>INT</th>\n",
       "      <td>83.775779</td>\n",
       "      <td>11.129103</td>\n",
       "    </tr>\n",
       "    <tr>\n",
       "      <th>LL</th>\n",
       "      <td>86.438544</td>\n",
       "      <td>14.716774</td>\n",
       "    </tr>\n",
       "    <tr>\n",
       "      <th>LS</th>\n",
       "      <td>76.170238</td>\n",
       "      <td>6.505946</td>\n",
       "    </tr>\n",
       "    <tr>\n",
       "      <th>SS</th>\n",
       "      <td>84.485627</td>\n",
       "      <td>10.894313</td>\n",
       "    </tr>\n",
       "  </tbody>\n",
       "</table>\n",
       "</div>"
      ],
      "text/plain": [
       "    per_cum_dur_black_side           \n",
       "                      mean        std\n",
       "trt                                  \n",
       "FF               83.166337  10.426405\n",
       "INT              83.775779  11.129103\n",
       "LL               86.438544  14.716774\n",
       "LS               76.170238   6.505946\n",
       "SS               84.485627  10.894313"
      ]
     },
     "execution_count": 28,
     "metadata": {},
     "output_type": "execute_result"
    }
   ],
   "source": [
    "scototaxis.filter(['per_cum_dur_black_side', 'trt']) \\\n",
    ".groupby( 'trt') \\\n",
    ".agg(['mean','std'])\n",
    "     "
   ]
  },
  {
   "cell_type": "markdown",
   "metadata": {},
   "source": [
    "The mean and standard deviation of percent time spent in black was calculated for each group based on the data from females and males separately. For females, the group that spent the most time in black was the SS group with a mean of 84.97%. For males, the group that spent the most time in black was the LL males with a mean of 87.43%."
   ]
  },
  {
   "cell_type": "code",
   "execution_count": 34,
   "metadata": {},
   "outputs": [
    {
     "data": {
      "text/html": [
       "<div>\n",
       "<style scoped>\n",
       "    .dataframe tbody tr th:only-of-type {\n",
       "        vertical-align: middle;\n",
       "    }\n",
       "\n",
       "    .dataframe tbody tr th {\n",
       "        vertical-align: top;\n",
       "    }\n",
       "\n",
       "    .dataframe thead tr th {\n",
       "        text-align: left;\n",
       "    }\n",
       "\n",
       "    .dataframe thead tr:last-of-type th {\n",
       "        text-align: right;\n",
       "    }\n",
       "</style>\n",
       "<table border=\"1\" class=\"dataframe\">\n",
       "  <thead>\n",
       "    <tr>\n",
       "      <th></th>\n",
       "      <th colspan=\"2\" halign=\"left\">per_cum_dur_black_side</th>\n",
       "    </tr>\n",
       "    <tr>\n",
       "      <th></th>\n",
       "      <th>mean</th>\n",
       "      <th>std</th>\n",
       "    </tr>\n",
       "    <tr>\n",
       "      <th>trt</th>\n",
       "      <th></th>\n",
       "      <th></th>\n",
       "    </tr>\n",
       "  </thead>\n",
       "  <tbody>\n",
       "    <tr>\n",
       "      <th>FF</th>\n",
       "      <td>83.166337</td>\n",
       "      <td>10.426405</td>\n",
       "    </tr>\n",
       "    <tr>\n",
       "      <th>INT</th>\n",
       "      <td>80.649417</td>\n",
       "      <td>8.219516</td>\n",
       "    </tr>\n",
       "    <tr>\n",
       "      <th>LL</th>\n",
       "      <td>84.449933</td>\n",
       "      <td>7.599050</td>\n",
       "    </tr>\n",
       "    <tr>\n",
       "      <th>LS</th>\n",
       "      <td>76.170238</td>\n",
       "      <td>6.505946</td>\n",
       "    </tr>\n",
       "    <tr>\n",
       "      <th>SS</th>\n",
       "      <td>84.967560</td>\n",
       "      <td>3.477434</td>\n",
       "    </tr>\n",
       "  </tbody>\n",
       "</table>\n",
       "</div>"
      ],
      "text/plain": [
       "    per_cum_dur_black_side           \n",
       "                      mean        std\n",
       "trt                                  \n",
       "FF               83.166337  10.426405\n",
       "INT              80.649417   8.219516\n",
       "LL               84.449933   7.599050\n",
       "LS               76.170238   6.505946\n",
       "SS               84.967560   3.477434"
      ]
     },
     "execution_count": 34,
     "metadata": {},
     "output_type": "execute_result"
    }
   ],
   "source": [
    "#time spent in black for each group for females only\n",
    "scototaxis.filter(['per_cum_dur_black_side', 'Sex', 'trt']) \\\n",
    ".query('Sex == \"F\"')\\\n",
    ".groupby('trt') \\\n",
    ".agg(['mean','std'])\n",
    "     "
   ]
  },
  {
   "cell_type": "code",
   "execution_count": 37,
   "metadata": {},
   "outputs": [
    {
     "data": {
      "text/html": [
       "<div>\n",
       "<style scoped>\n",
       "    .dataframe tbody tr th:only-of-type {\n",
       "        vertical-align: middle;\n",
       "    }\n",
       "\n",
       "    .dataframe tbody tr th {\n",
       "        vertical-align: top;\n",
       "    }\n",
       "\n",
       "    .dataframe thead tr th {\n",
       "        text-align: left;\n",
       "    }\n",
       "\n",
       "    .dataframe thead tr:last-of-type th {\n",
       "        text-align: right;\n",
       "    }\n",
       "</style>\n",
       "<table border=\"1\" class=\"dataframe\">\n",
       "  <thead>\n",
       "    <tr>\n",
       "      <th></th>\n",
       "      <th colspan=\"2\" halign=\"left\">per_cum_dur_black_side</th>\n",
       "    </tr>\n",
       "    <tr>\n",
       "      <th></th>\n",
       "      <th>mean</th>\n",
       "      <th>std</th>\n",
       "    </tr>\n",
       "    <tr>\n",
       "      <th>trt</th>\n",
       "      <th></th>\n",
       "      <th></th>\n",
       "    </tr>\n",
       "  </thead>\n",
       "  <tbody>\n",
       "    <tr>\n",
       "      <th>INT</th>\n",
       "      <td>85.165273</td>\n",
       "      <td>12.385118</td>\n",
       "    </tr>\n",
       "    <tr>\n",
       "      <th>LL</th>\n",
       "      <td>87.432850</td>\n",
       "      <td>17.669399</td>\n",
       "    </tr>\n",
       "    <tr>\n",
       "      <th>SS</th>\n",
       "      <td>84.184419</td>\n",
       "      <td>14.010075</td>\n",
       "    </tr>\n",
       "  </tbody>\n",
       "</table>\n",
       "</div>"
      ],
      "text/plain": [
       "    per_cum_dur_black_side           \n",
       "                      mean        std\n",
       "trt                                  \n",
       "INT              85.165273  12.385118\n",
       "LL               87.432850  17.669399\n",
       "SS               84.184419  14.010075"
      ]
     },
     "execution_count": 37,
     "metadata": {},
     "output_type": "execute_result"
    }
   ],
   "source": [
    "#time spent in black for each group for males only\n",
    "scototaxis.filter(['per_cum_dur_black_side', 'Sex', 'trt']) \\\n",
    ".query('Sex == \"M\"')\\\n",
    ".groupby('trt') \\\n",
    ".agg(['mean','std'])"
   ]
  },
  {
   "cell_type": "markdown",
   "metadata": {},
   "source": [
    "This scatterplot visualizes the time spent in black for each fish (y-axis), color-coded to display the group they belong to. "
   ]
  },
  {
   "cell_type": "code",
   "execution_count": 67,
   "metadata": {},
   "outputs": [
    {
     "data": {
      "text/plain": [
       "<AxesSubplot:ylabel='per_cum_dur_black_side'>"
      ]
     },
     "execution_count": 67,
     "metadata": {},
     "output_type": "execute_result"
    },
    {
     "data": {
      "image/png": "[encoded data removed]",
      "text/plain": [
       "<Figure size 432x288 with 1 Axes>"
      ]
     },
     "metadata": {
      "needs_background": "light"
     },
     "output_type": "display_data"
    }
   ],
   "source": [
    "sns.scatterplot( x = scototaxis.index,y =scototaxis['per_cum_dur_black_side'], hue = scototaxis['trt'])"
   ]
  }
 ],
 "metadata": {
  "kernelspec": {
   "display_name": "Python 3",
   "language": "python",
   "name": "python3"
  },
  "language_info": {
   "codemirror_mode": {
    "name": "ipython",
    "version": 3
   },
   "file_extension": ".py",
   "mimetype": "text/x-python",
   "name": "python",
   "nbconvert_exporter": "python",
   "pygments_lexer": "ipython3",
   "version": "3.8.5"
  }
 },
 "nbformat": 4,
 "nbformat_minor": 4
}
